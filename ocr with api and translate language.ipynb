{
 "cells": [
  {
   "cell_type": "code",
   "execution_count": 1,
   "metadata": {},
   "outputs": [],
   "source": [
    "import cv2\n",
    "import numpy as np\n",
    "import requests\n",
    "import io\n",
    "import json\n",
    "\n"
   ]
  },
  {
   "cell_type": "code",
   "execution_count": 2,
   "metadata": {},
   "outputs": [],
   "source": [
    "img = cv2.imread(r\"C:\\Users\\JAINY\\Documents\\GitHub\\machine_learning\\Projects\\ocr_with_api(ocr.space) & language translation\\kungfu.jpg\")\n",
    "height, width, _ = img.shape\n",
    "\n",
    "# Cutting image and region of interest\n",
    "#roi = img[0: height, 400: width]\n",
    "roi = img\n",
    "\n"
   ]
  },
  {
   "cell_type": "code",
   "execution_count": 3,
   "metadata": {},
   "outputs": [
    {
     "data": {
      "text/plain": [
       "'\\nArabic=ara\\nBulgarian=bul\\nChinese(Simplified)=chs\\nChinese(Traditional)=cht\\nCroatian = hrv\\nCzech = cze\\nDanish = dan\\nDutch = dut\\nEnglish = eng\\nFinnish = fin\\nFrench = fre\\nGerman = ger\\nGreek = gre\\nHungarian = hun\\nKorean = kor\\nItalian = ita\\nJapanese = jpn\\nPolish = pol\\nPortuguese = por\\nRussian = rus\\nSlovenian = slv\\nSpanish = spa\\nSwedish = swe\\nTurkish = tur\\n'"
      ]
     },
     "execution_count": 3,
     "metadata": {},
     "output_type": "execute_result"
    }
   ],
   "source": [
    "# Ocr\n",
    "\n",
    "url_api = \"https://api.ocr.space/parse/image\"\n",
    "# img compression\n",
    "_, compressedimage = cv2.imencode(\".jpg\", roi, [1, 90])\n",
    "\n",
    "#converting into bytes format\n",
    "file_bytes = io.BytesIO(compressedimage)\n",
    "\n",
    "\"\"\"\n",
    "Arabic=ara\n",
    "Bulgarian=bul\n",
    "Chinese(Simplified)=chs\n",
    "Chinese(Traditional)=cht\n",
    "Croatian = hrv\n",
    "Czech = cze\n",
    "Danish = dan\n",
    "Dutch = dut\n",
    "English = eng\n",
    "Finnish = fin\n",
    "French = fre\n",
    "German = ger\n",
    "Greek = gre\n",
    "Hungarian = hun\n",
    "Korean = kor\n",
    "Italian = ita\n",
    "Japanese = jpn\n",
    "Polish = pol\n",
    "Portuguese = por\n",
    "Russian = rus\n",
    "Slovenian = slv\n",
    "Spanish = spa\n",
    "Swedish = swe\n",
    "Turkish = tur\n",
    "\"\"\""
   ]
  },
  {
   "cell_type": "code",
   "execution_count": 4,
   "metadata": {},
   "outputs": [
    {
     "name": "stdout",
     "output_type": "stream",
     "text": [
      "李小基本中国拳法\r\n",
      "基本中国拳法\r\n",
      "\n"
     ]
    }
   ],
   "source": [
    "# specify the language and API key\n",
    "result = requests.post(url_api,\n",
    "              files = {\"kungfu.jpg\": file_bytes},\n",
    "              data = {\"apikey\": \"6101f0b3ab88957\",\n",
    "                      \"language\": \"cht\"})\n",
    "\n",
    "result = result.content.decode()\n",
    "result = json.loads(result)\n",
    "\n",
    "parsed_results = result.get(\"ParsedResults\")[0]\n",
    "text_detected = parsed_results.get(\"ParsedText\")\n",
    "print(text_detected)\n",
    "\n",
    "#cv2.imshow(\"roi\", roi)\n",
    "#cv2.imshow(\"Img\", img)\n"
   ]
  },
  {
   "cell_type": "code",
   "execution_count": 16,
   "metadata": {},
   "outputs": [
    {
     "name": "stdout",
     "output_type": "stream",
     "text": [
      "<class 'str'>\n"
     ]
    }
   ],
   "source": [
    "print(type(text_detected))"
   ]
  },
  {
   "cell_type": "code",
   "execution_count": 17,
   "metadata": {},
   "outputs": [
    {
     "name": "stdout",
     "output_type": "stream",
     "text": [
      "18\n"
     ]
    }
   ],
   "source": [
    "print(len(text_detected))"
   ]
  },
  {
   "cell_type": "code",
   "execution_count": 18,
   "metadata": {},
   "outputs": [],
   "source": [
    "from googletrans import Translator"
   ]
  },
  {
   "cell_type": "code",
   "execution_count": 19,
   "metadata": {},
   "outputs": [],
   "source": [
    "translator = Translator()\n",
    "r = translator.translate(text_detected)"
   ]
  },
  {
   "cell_type": "code",
   "execution_count": 20,
   "metadata": {},
   "outputs": [
    {
     "name": "stdout",
     "output_type": "stream",
     "text": [
      "Translated(src=zh-CN, dest=en, text=Li Basic Chinese boxing\r\n",
      "Basic Chinese boxing, pronunciation=None, extra_data=\"{'translat...\")\n",
      "<class 'googletrans.models.Translated'>\n"
     ]
    }
   ],
   "source": [
    "print(r)\n",
    "print(type(r))\n"
   ]
  },
  {
   "cell_type": "code",
   "execution_count": 21,
   "metadata": {},
   "outputs": [],
   "source": [
    "import io\n",
    "import json"
   ]
  },
  {
   "cell_type": "code",
   "execution_count": 22,
   "metadata": {},
   "outputs": [],
   "source": [
    "result = r.text\n",
    "#result = json.loads(result)\n"
   ]
  },
  {
   "cell_type": "code",
   "execution_count": 23,
   "metadata": {},
   "outputs": [
    {
     "name": "stdout",
     "output_type": "stream",
     "text": [
      "Li Basic Chinese boxing\r\n",
      "Basic Chinese boxing\n",
      "<class 'str'>\n"
     ]
    }
   ],
   "source": [
    "# Displaying results\n",
    "print(result)\n",
    "print(type(result))"
   ]
  },
  {
   "cell_type": "code",
   "execution_count": null,
   "metadata": {},
   "outputs": [],
   "source": [
    "cv2.waitKey(0)\n",
    "cv2.destroyAllWindows()"
   ]
  }
 ],
 "metadata": {
  "kernelspec": {
   "display_name": "Python3.6Test",
   "language": "python",
   "name": "python3.6test"
  },
  "language_info": {
   "codemirror_mode": {
    "name": "ipython",
    "version": 3
   },
   "file_extension": ".py",
   "mimetype": "text/x-python",
   "name": "python",
   "nbconvert_exporter": "python",
   "pygments_lexer": "ipython3",
   "version": "3.6.7"
  }
 },
 "nbformat": 4,
 "nbformat_minor": 2
}
